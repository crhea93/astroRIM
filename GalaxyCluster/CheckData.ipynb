{
 "cells": [
  {
   "attachments": {},
   "cell_type": "markdown",
   "metadata": {},
   "source": [
    "# Data Verification\n",
    "In this notebook we will run a couple of checks on the data to make sure that it is correct before we train our network"
   ]
  },
  {
   "cell_type": "code",
   "execution_count": 1,
   "metadata": {},
   "outputs": [],
   "source": [
    "import numpy as np\n",
    "import pickle"
   ]
  },
  {
   "cell_type": "code",
   "execution_count": 4,
   "metadata": {},
   "outputs": [],
   "source": [
    "# Path to rmfs (A)\n",
    "#responses_data = pickle.load(open('../../RIM_data/rmfs_new.pkl', 'rb'))\n",
    "# Path to observed spectra (y)\n",
    "spectra_data = pickle.load(open('/home/carterrhea/Downloads/spectra_new.pkl', 'rb'))\n",
    "# Path to true spectra (x)\n",
    "true_spectra_data = pickle.load(open('/home/carterrhea/Downloads/true_new.pkl', 'rb'))\n",
    "# These values are defined for this specific problem\n",
    "min_ = 35\n",
    "max_ = 175\n",
    "# Read in A, x, and y\n",
    "spectra_x = [data[1][0][0][min_:max_] for data in spectra_data.items()]\n",
    "spectra_y = [data[1][0][1][min_:max_] for data in spectra_data.items()]\n",
    "true_spectra_y = [data[1] for data in true_spectra_data.items()]\n",
    "spectra_response = [data[1][1] for data in spectra_data.items()]\n",
    "#responses = [responses_data[val][min_:max_,min_:max_] for val in spectra_response]"
   ]
  },
  {
   "attachments": {},
   "cell_type": "markdown",
   "metadata": {},
   "source": [
    "## Step 1: Verify that are spectra are populated\n",
    "We first need to make sure that the observed and true spectra are not simply zeros."
   ]
  },
  {
   "attachments": {},
   "cell_type": "markdown",
   "metadata": {},
   "source": [
    "### Observed Spectra"
   ]
  },
  {
   "cell_type": "code",
   "execution_count": 5,
   "metadata": {},
   "outputs": [
    {
     "name": "stdout",
     "output_type": "stream",
     "text": [
      "Number of all-zero spectra: 0\n",
      "Total number of spectra: 10000\n"
     ]
    }
   ],
   "source": [
    "not_indices = []  # List of indices corresponding to all-zero spectra\n",
    "for spec_ct, spec_obs in enumerate(spectra_y):  # Step through all the spectra\n",
    "    if not np.any(spec_obs):  # The spectra is only zeros\n",
    "        not_indices.append(spec_ct)  # Add to list of indices\n",
    "print('Number of all-zero spectra: %i'%len(not_indices))\n",
    "print('Total number of spectra: %i'%(len(spectra_y)))"
   ]
  },
  {
   "attachments": {},
   "cell_type": "markdown",
   "metadata": {},
   "source": [
    "### True Spectra"
   ]
  },
  {
   "cell_type": "code",
   "execution_count": 6,
   "metadata": {},
   "outputs": [
    {
     "name": "stdout",
     "output_type": "stream",
     "text": [
      "Number of all-zero spectra: 0\n",
      "Total number of spectra: 10000\n"
     ]
    }
   ],
   "source": [
    "not_indices = []  # List of indices corresponding to all-zero spectra\n",
    "for spec_ct, spec_obs in enumerate(true_spectra_y):  # Step through all the spectra\n",
    "    if not np.any(spec_obs):  # The spectra is only zeros\n",
    "        not_indices.append(spec_ct)  # Add to list of indices\n",
    "print('Number of all-zero spectra: %i'%len(not_indices))\n",
    "print('Total number of spectra: %i'%(len(true_spectra_y)))"
   ]
  },
  {
   "attachments": {},
   "cell_type": "markdown",
   "metadata": {},
   "source": [
    "### Response Matrices"
   ]
  },
  {
   "cell_type": "code",
   "execution_count": 11,
   "metadata": {},
   "outputs": [
    {
     "name": "stdout",
     "output_type": "stream",
     "text": [
      "Number of all-zero rmfs: 0\n",
      "Total number of rmfs: 10000\n"
     ]
    }
   ],
   "source": [
    "not_indices = []  # List of indices corresponding to all-zero rmfs\n",
    "for spec_ct, spec_obs in enumerate(responses):  # Step through all the rmfs\n",
    "    if not np.any(spec_obs):  # The rmfs is only zeros\n",
    "        not_indices.append(spec_ct)  # Add to list of indices\n",
    "print('Number of all-zero rmfs: %i'%len(not_indices))\n",
    "print('Total number of rmfs: %i'%(len(responses)))"
   ]
  },
  {
   "cell_type": "code",
   "execution_count": null,
   "metadata": {},
   "outputs": [],
   "source": []
  }
 ],
 "metadata": {
  "kernelspec": {
   "display_name": "astro",
   "language": "python",
   "name": "python3"
  },
  "language_info": {
   "codemirror_mode": {
    "name": "ipython",
    "version": 3
   },
   "file_extension": ".py",
   "mimetype": "text/x-python",
   "name": "python",
   "nbconvert_exporter": "python",
   "pygments_lexer": "ipython3",
   "version": "3.10.8"
  },
  "orig_nbformat": 4
 },
 "nbformat": 4,
 "nbformat_minor": 2
}
